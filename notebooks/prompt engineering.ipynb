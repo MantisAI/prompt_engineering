{
 "cells": [
  {
   "cell_type": "code",
   "execution_count": 1,
   "id": "2bcc0b4b",
   "metadata": {},
   "outputs": [],
   "source": [
    "from utils.models import run_model"
   ]
  },
  {
   "cell_type": "code",
   "execution_count": 3,
   "id": "09d0e621",
   "metadata": {},
   "outputs": [],
   "source": [
    "prompt_beginning = \"Classify Tweet into one of these labels: anger, joy, optimism, sadness\\n\"\n",
    "prompt_shot_example = \"Tweet: $DATA_EXAMPLE$\\nLabel: $VALUE$\\n\"\n",
    "prompt_end = \"Tweet: $DATA$\\nLabel:\""
   ]
  },
  {
   "cell_type": "code",
   "execution_count": 5,
   "id": "dc417e1c",
   "metadata": {},
   "outputs": [
    {
     "name": "stdout",
     "output_type": "stream",
     "text": [
      "{'model': 'Bloom', 'accuracy': 0.74, 'n_shot': 0}\n",
      "{'model': 'gpt-j-6B', 'accuracy': 0.51, 'n_shot': 0}\n",
      "{'model': 'gpt3-davinci', 'accuracy': 0.61, 'n_shot': 0}\n",
      "{'model': 'T0pp', 'accuracy': 0.68, 'n_shot': 0}\n",
      "{'model': 'gpt3-curie', 'accuracy': 0.59, 'n_shot': 0}\n",
      "{'model': 'Bloom', 'accuracy': 0.72, 'n_shot': 1}\n",
      "{'model': 'gpt-j-6B', 'accuracy': 0.64, 'n_shot': 1}\n",
      "{'model': 'gpt3-davinci', 'accuracy': 0.58, 'n_shot': 1}\n",
      "{'model': 'T0pp', 'accuracy': 0.42, 'n_shot': 1}\n",
      "{'model': 'gpt3-curie', 'accuracy': 0.57, 'n_shot': 1}\n",
      "{'model': 'Bloom', 'accuracy': 0.7, 'n_shot': 2}\n",
      "{'model': 'gpt-j-6B', 'accuracy': 0.17, 'n_shot': 2}\n",
      "{'model': 'gpt3-davinci', 'accuracy': 0.53, 'n_shot': 2}\n",
      "{'model': 'T0pp', 'accuracy': 0.58, 'n_shot': 2}\n",
      "{'model': 'gpt3-curie', 'accuracy': 0.53, 'n_shot': 2}\n",
      "{'model': 'Bloom', 'accuracy': 0.8, 'n_shot': 5}\n",
      "{'model': 'gpt-j-6B', 'accuracy': 0.53, 'n_shot': 5}\n",
      "{'model': 'gpt3-davinci', 'accuracy': 0.56, 'n_shot': 5}\n",
      "{'model': 'T0pp', 'accuracy': 0.58, 'n_shot': 5}\n",
      "{'model': 'gpt3-curie', 'accuracy': 0.55, 'n_shot': 5}\n"
     ]
    }
   ],
   "source": [
    "test_models = [\"Bloom\", \"gpt-j-6B\", \"gpt3-davinci\", \"T0pp\", \"gpt3-curie\"]\n",
    "model_results = []\n",
    "for n_shot in [0,1,2,5]:\n",
    "    for test_model in test_models:\n",
    "        accuracy, test_data = run_model(\"classification\", test_model, prompt_beginning, prompt_shot_example, prompt_end, n_shot, number_of_test_items=100)\n",
    "        test_result = {\n",
    "            \"model\": test_model,\n",
    "            \"accuracy\": accuracy,\n",
    "            \"n_shot\": n_shot\n",
    "        }\n",
    "        model_results.append(test_result)\n",
    "        print(test_result)"
   ]
  },
  {
   "cell_type": "code",
   "execution_count": null,
   "id": "3a7f4113",
   "metadata": {},
   "outputs": [],
   "source": []
  }
 ],
 "metadata": {
  "kernelspec": {
   "display_name": "Python 3 (ipykernel)",
   "language": "python",
   "name": "python3"
  },
  "language_info": {
   "codemirror_mode": {
    "name": "ipython",
    "version": 3
   },
   "file_extension": ".py",
   "mimetype": "text/x-python",
   "name": "python",
   "nbconvert_exporter": "python",
   "pygments_lexer": "ipython3",
   "version": "3.8.10"
  }
 },
 "nbformat": 4,
 "nbformat_minor": 5
}
